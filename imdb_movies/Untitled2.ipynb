{
 "cells": [
  {
   "cell_type": "code",
   "execution_count": 2,
   "id": "fcd12144",
   "metadata": {},
   "outputs": [],
   "source": [
    "# BeautifulSoup\n",
    "import pandas as pd\n",
    "import requests\n",
    "from bs4 import BeautifulSoup\n",
    "import numpy as np\n",
    "\n",
    "# selenium 4\n",
    "from selenium import webdriver\n",
    "from selenium.webdriver.chrome.service import Service as ChromeService\n",
    "from webdriver_manager.chrome import ChromeDriverManager\n",
    "import time\n",
    "from selenium.webdriver.common.by import By\n",
    "\n",
    "driver = webdriver.Chrome(service=ChromeService(ChromeDriverManager().install()))\n",
    "driver.maximize_window()\n",
    "\n",
    "movie_name = []\n",
    "genre = []\n",
    "certificate=[]\n",
    "year = []\n",
    "runtime = []\n",
    "rating = []\n",
    "metascore = []\n",
    "votes = []\n",
    "gross = []\n",
    "description = []\n",
    "director = []\n",
    "stars = []\n",
    "\n",
    "\n",
    "driver.get(\"https://www.imdb.com/search/title/?title_type=feature\")\n",
    "\n",
    "\n",
    "# time.sleep(3)\n",
    "# for i in range(1,2):\n",
    "#     report1 = driver.find_elements(By.CLASS_NAME,\"ipc-btn.ipc-btn--single-padding.ipc-btn--center-align-content.ipc-btn--default-height.ipc-btn--core-base.ipc-btn--theme-base.ipc-btn--on-accent2.ipc-text-button.ipc-see-more__button\")[0]\n",
    "#     driver.execute_script(\"arguments[0].click();\", report1)\n",
    "#     time.sleep(5)\n",
    "    \n",
    "# movie_data = driver.find_elements(By.CLASS_NAME,\"ipc-icon-button.dli-info-icon.ipc-icon-button--base.ipc-icon-button--onAccent2\")\n",
    "# ipc-title-link-wrapper\n",
    "movie_data = driver.find_elements(By.CLASS_NAME,\"sc-b4e41383-4.efDLHx.dli-parent\")\n"
   ]
  },
  {
   "cell_type": "code",
   "execution_count": 43,
   "id": "8feee2fa",
   "metadata": {},
   "outputs": [
    {
     "name": "stdout",
     "output_type": "stream",
     "text": [
      "wri ['Emerald Fennell']\n"
     ]
    }
   ],
   "source": [
    "headers={\"User-Agent\":\"Mozilla/5.0 (Windows NT 10.0; Win64; x64) AppleWebKit/537.36 (KHTML, like Gecko) Chrome/71.0.3578.98 Safari/537.36\"}\n",
    "\n",
    "for store in movie_data[:1]:\n",
    "    store_html = store.get_attribute(\"outerHTML\")\n",
    "    soup = BeautifulSoup(store_html, 'html.parser')\n",
    "    data = []\n",
    "    name = soup.find('h3',class_=\"ipc-title__text\").text.split(\" \")[1]\n",
    "    duration = soup.find('div',class_=\"sc-1e00898e-7 hcJWUf dli-title-metadata\").text\n",
    "    certificate= duration.split(\"m\")[1]\n",
    "    time = duration.split(\"m\")[0]\n",
    "    watch_time = time.split(\"h\")[0][-1]+ \"h\"+time.split(\"h\")[1]+\"m\"\n",
    "    year = time.split(\"h\")[0][:-1]\n",
    "    metascore_rate = soup.find('span', class_=\"sc-1e00898e-1 dGyusp\").text.split(\"Metascore\")[0].split(\"Rate\")\n",
    "    metascore= metascore_rate[1]\n",
    "    rate = metascore_rate[0].split('\\xa0')[0]\n",
    "    description = soup.find('div', class_=\"ipc-html-content-inner-div\").text\n",
    "    votes = soup.find('div', class_=\"sc-b4e41383-0 cyGaqI\").text.split(\"Votes\")[1]\n",
    "\n",
    "    \n",
    "    url_name = store.find_elements(By.CLASS_NAME,\"ipc-title-link-wrapper\")[0]\n",
    "    url = f\"{url_name.get_attribute('href')}\"\n",
    "#     request allow you to send HTTP request\n",
    "    response = requests.get(url,headers=headers)\n",
    "    soup2 = BeautifulSoup(response.content, 'html.parser')\n",
    "    gen = soup2.find('div', class_=\"ipc-chip-list__scroller\")\n",
    "    gen2 = gen.findAll('a', class_=\"ipc-chip ipc-chip--on-baseAlt\")\n",
    "    \n",
    "    genre = [a.text for a in gen2]\n",
    "    \n",
    "    dri_wri_star_ul= soup2.find('ul', class_='ipc-metadata-list ipc-metadata-list--dividers-all title-pc-list ipc-metadata-list--baseAlt')\n",
    "    dri_wri_star_li = dri_wri_star_ul.findAll('li', class_='ipc-metadata-list__item')\n",
    "    \n",
    "    for li in dri_wri_star_li:\n",
    "        if li.span and li.span.text in ['Writer', 'Writers']:\n",
    "            wri = li.findAll('a', class_='ipc-metadata-list-item__list-content-item ipc-metadata-list-item__list-content-item--link')\n",
    "            print(\"wri\", [a.text for a in wri])\n",
    "    \n",
    "#     tar_split = dri_wri_star.text.split(\"Stars\")\n",
    "#     star = star_split[1].split(\" \")\n",
    "    \n",
    "#     dri_wri = star_split[0].split(\"Writer\")\n",
    "#     writer = dri_wri[1].split(\" \")\n",
    "#     dri = dri_wri[0].split('Director')\n",
    "\n",
    "    \n",
    "    \n",
    "#     content_div = soup.find('div', class_=\"sc-e226b0e3-3 dwkouE\")\n",
    "# #     movie_name.append(content_div.find('span', class_='hero__primary-text').text)\n",
    "#     print(\"movie_name\", content_div)\n",
    "#     year.append(content_div.h3.find('span', class_='lister-item-year text-muted unbold').text)\n",
    "#     content_div_p=content_div.find('p', class_='text-muted text-small')\n",
    "#     try:\n",
    "#         certificate.append(content_div_p.find('span', class_='certificate').text)\n",
    "#     except:\n",
    "#         certificate.append(None)\n",
    "#     runtime.append(content_div_p.find('span', class_='runtime').text if content_div_p.find('span', class_='runtime') else None)\n",
    "#     genre.append(content_div_p.find('span', class_='genre').text.replace('\\n', ''))\n",
    "#     rating.append(content_div.find('span', class_='ipl-rating-star__rating').text)\n",
    "#     try:\n",
    "#         metascore_div = content_div.find('div', class_='inline-block ratings-metascore')\n",
    "#         metascore.append(metascore_div.find('span', class_='metascore favorable').text.replace('\\n', ''))\n",
    "#     except:\n",
    "#         metascore.append(None)\n",
    "#     description.append(content_div.find('p', class_='').text.replace('\\n', ''))\n",
    "#     de_cost = content_div.select_one('p:has(a)').text.replace('\\n', '').replace('  ', '').replace('Director:','').replace('Directors:','').replace('|','').split('Stars:')\n",
    "#     director.append(de_cost[0] if len(de_cost)>=1 else None)\n",
    "#     stars.append(de_cost[1] if len(de_cost)>=2 else None)\n",
    "#     value = store.find_all('span', attrs = {'name': 'nv'})\n",
    "#     votes.append(value[0].text)\n",
    "#     gross.append(value[1].text if len(value) >1 else None)"
   ]
  },
  {
   "cell_type": "code",
   "execution_count": 38,
   "id": "15cb379c",
   "metadata": {},
   "outputs": [
    {
     "ename": "IndentationError",
     "evalue": "unexpected indent (2361666311.py, line 8)",
     "output_type": "error",
     "traceback": [
      "\u001b[0;36m  Cell \u001b[0;32mIn[38], line 8\u001b[0;36m\u001b[0m\n\u001b[0;31m    print(\"content_di2\", dri_wri_star_li)\u001b[0m\n\u001b[0m    ^\u001b[0m\n\u001b[0;31mIndentationError\u001b[0m\u001b[0;31m:\u001b[0m unexpected indent\n"
     ]
    }
   ],
   "source": [
    " "
   ]
  },
  {
   "cell_type": "code",
   "execution_count": null,
   "id": "e82a5415",
   "metadata": {},
   "outputs": [],
   "source": []
  }
 ],
 "metadata": {
  "kernelspec": {
   "display_name": "Python 3 (ipykernel)",
   "language": "python",
   "name": "python3"
  },
  "language_info": {
   "codemirror_mode": {
    "name": "ipython",
    "version": 3
   },
   "file_extension": ".py",
   "mimetype": "text/x-python",
   "name": "python",
   "nbconvert_exporter": "python",
   "pygments_lexer": "ipython3",
   "version": "3.10.9"
  }
 },
 "nbformat": 4,
 "nbformat_minor": 5
}
