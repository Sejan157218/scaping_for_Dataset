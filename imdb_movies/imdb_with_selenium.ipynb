{
 "cells": [
  {
   "cell_type": "code",
   "execution_count": 56,
   "id": "2c2e11a5",
   "metadata": {},
   "outputs": [
    {
     "name": "stdout",
     "output_type": "stream",
     "text": [
      "close_btn [<selenium.webdriver.remote.webelement.WebElement (session=\"884dbd008844286c0b54702ec5e18d3a\", element=\"18CC0636D088840450E136CF952399CB_element_94\")>, <selenium.webdriver.remote.webelement.WebElement (session=\"884dbd008844286c0b54702ec5e18d3a\", element=\"18CC0636D088840450E136CF952399CB_element_95\")>, <selenium.webdriver.remote.webelement.WebElement (session=\"884dbd008844286c0b54702ec5e18d3a\", element=\"18CC0636D088840450E136CF952399CB_element_96\")>, <selenium.webdriver.remote.webelement.WebElement (session=\"884dbd008844286c0b54702ec5e18d3a\", element=\"18CC0636D088840450E136CF952399CB_element_97\")>, <selenium.webdriver.remote.webelement.WebElement (session=\"884dbd008844286c0b54702ec5e18d3a\", element=\"18CC0636D088840450E136CF952399CB_element_98\")>]\n"
     ]
    },
    {
     "ename": "JavascriptException",
     "evalue": "Message: javascript error: Cannot read properties of undefined (reading 'click')\n  (Session info: chrome=120.0.6099.199)\nStacktrace:\n#0 0x557edb22df83 <unknown>\n#1 0x557edaee6cf7 <unknown>\n#2 0x557edaeed2a3 <unknown>\n#3 0x557edaeefbb4 <unknown>\n#4 0x557edaf7fba3 <unknown>\n#5 0x557edaf600b2 <unknown>\n#6 0x557edaf7f006 <unknown>\n#7 0x557edaf5fe53 <unknown>\n#8 0x557edaf27dd4 <unknown>\n#9 0x557edaf291de <unknown>\n#10 0x557edb1f2531 <unknown>\n#11 0x557edb1f6455 <unknown>\n#12 0x557edb1def55 <unknown>\n#13 0x557edb1f70ef <unknown>\n#14 0x557edb1c299f <unknown>\n#15 0x557edb21b008 <unknown>\n#16 0x557edb21b1d7 <unknown>\n#17 0x557edb22d124 <unknown>\n#18 0x7f3763c94ac3 <unknown>\n",
     "output_type": "error",
     "traceback": [
      "\u001b[0;31m---------------------------------------------------------------------------\u001b[0m",
      "\u001b[0;31mJavascriptException\u001b[0m                       Traceback (most recent call last)",
      "Cell \u001b[0;32mIn[56], line 32\u001b[0m\n\u001b[1;32m     30\u001b[0m close_btn \u001b[38;5;241m=\u001b[39m driver\u001b[38;5;241m.\u001b[39mfind_elements(By\u001b[38;5;241m.\u001b[39mCLASS_NAME,\u001b[38;5;124m\"\u001b[39m\u001b[38;5;124mipc-icon-button.ipc-icon-button--baseAlt.ipc-icon-button--onBase\u001b[39m\u001b[38;5;124m\"\u001b[39m)\n\u001b[1;32m     31\u001b[0m \u001b[38;5;28mprint\u001b[39m(\u001b[38;5;124m\"\u001b[39m\u001b[38;5;124mclose_btn\u001b[39m\u001b[38;5;124m\"\u001b[39m, close_btn)\n\u001b[0;32m---> 32\u001b[0m driver\u001b[38;5;241m.\u001b[39mexecute_script(\u001b[38;5;124m\"\u001b[39m\u001b[38;5;124marguments[2].click();\u001b[39m\u001b[38;5;124m\"\u001b[39m, close_btn)\n",
      "File \u001b[0;32m~/anaconda3/lib/python3.11/site-packages/selenium/webdriver/remote/webdriver.py:408\u001b[0m, in \u001b[0;36mWebDriver.execute_script\u001b[0;34m(self, script, *args)\u001b[0m\n\u001b[1;32m    405\u001b[0m converted_args \u001b[38;5;241m=\u001b[39m \u001b[38;5;28mlist\u001b[39m(args)\n\u001b[1;32m    406\u001b[0m command \u001b[38;5;241m=\u001b[39m Command\u001b[38;5;241m.\u001b[39mW3C_EXECUTE_SCRIPT\n\u001b[0;32m--> 408\u001b[0m \u001b[38;5;28;01mreturn\u001b[39;00m \u001b[38;5;28mself\u001b[39m\u001b[38;5;241m.\u001b[39mexecute(command, {\u001b[38;5;124m\"\u001b[39m\u001b[38;5;124mscript\u001b[39m\u001b[38;5;124m\"\u001b[39m: script, \u001b[38;5;124m\"\u001b[39m\u001b[38;5;124margs\u001b[39m\u001b[38;5;124m\"\u001b[39m: converted_args})[\u001b[38;5;124m\"\u001b[39m\u001b[38;5;124mvalue\u001b[39m\u001b[38;5;124m\"\u001b[39m]\n",
      "File \u001b[0;32m~/anaconda3/lib/python3.11/site-packages/selenium/webdriver/remote/webdriver.py:348\u001b[0m, in \u001b[0;36mWebDriver.execute\u001b[0;34m(self, driver_command, params)\u001b[0m\n\u001b[1;32m    346\u001b[0m response \u001b[38;5;241m=\u001b[39m \u001b[38;5;28mself\u001b[39m\u001b[38;5;241m.\u001b[39mcommand_executor\u001b[38;5;241m.\u001b[39mexecute(driver_command, params)\n\u001b[1;32m    347\u001b[0m \u001b[38;5;28;01mif\u001b[39;00m response:\n\u001b[0;32m--> 348\u001b[0m     \u001b[38;5;28mself\u001b[39m\u001b[38;5;241m.\u001b[39merror_handler\u001b[38;5;241m.\u001b[39mcheck_response(response)\n\u001b[1;32m    349\u001b[0m     response[\u001b[38;5;124m\"\u001b[39m\u001b[38;5;124mvalue\u001b[39m\u001b[38;5;124m\"\u001b[39m] \u001b[38;5;241m=\u001b[39m \u001b[38;5;28mself\u001b[39m\u001b[38;5;241m.\u001b[39m_unwrap_value(response\u001b[38;5;241m.\u001b[39mget(\u001b[38;5;124m\"\u001b[39m\u001b[38;5;124mvalue\u001b[39m\u001b[38;5;124m\"\u001b[39m, \u001b[38;5;28;01mNone\u001b[39;00m))\n\u001b[1;32m    350\u001b[0m     \u001b[38;5;28;01mreturn\u001b[39;00m response\n",
      "File \u001b[0;32m~/anaconda3/lib/python3.11/site-packages/selenium/webdriver/remote/errorhandler.py:229\u001b[0m, in \u001b[0;36mErrorHandler.check_response\u001b[0;34m(self, response)\u001b[0m\n\u001b[1;32m    227\u001b[0m         alert_text \u001b[38;5;241m=\u001b[39m value[\u001b[38;5;124m\"\u001b[39m\u001b[38;5;124malert\u001b[39m\u001b[38;5;124m\"\u001b[39m]\u001b[38;5;241m.\u001b[39mget(\u001b[38;5;124m\"\u001b[39m\u001b[38;5;124mtext\u001b[39m\u001b[38;5;124m\"\u001b[39m)\n\u001b[1;32m    228\u001b[0m     \u001b[38;5;28;01mraise\u001b[39;00m exception_class(message, screen, stacktrace, alert_text)  \u001b[38;5;66;03m# type: ignore[call-arg]  # mypy is not smart enough here\u001b[39;00m\n\u001b[0;32m--> 229\u001b[0m \u001b[38;5;28;01mraise\u001b[39;00m exception_class(message, screen, stacktrace)\n",
      "\u001b[0;31mJavascriptException\u001b[0m: Message: javascript error: Cannot read properties of undefined (reading 'click')\n  (Session info: chrome=120.0.6099.199)\nStacktrace:\n#0 0x557edb22df83 <unknown>\n#1 0x557edaee6cf7 <unknown>\n#2 0x557edaeed2a3 <unknown>\n#3 0x557edaeefbb4 <unknown>\n#4 0x557edaf7fba3 <unknown>\n#5 0x557edaf600b2 <unknown>\n#6 0x557edaf7f006 <unknown>\n#7 0x557edaf5fe53 <unknown>\n#8 0x557edaf27dd4 <unknown>\n#9 0x557edaf291de <unknown>\n#10 0x557edb1f2531 <unknown>\n#11 0x557edb1f6455 <unknown>\n#12 0x557edb1def55 <unknown>\n#13 0x557edb1f70ef <unknown>\n#14 0x557edb1c299f <unknown>\n#15 0x557edb21b008 <unknown>\n#16 0x557edb21b1d7 <unknown>\n#17 0x557edb22d124 <unknown>\n#18 0x7f3763c94ac3 <unknown>\n"
     ]
    }
   ],
   "source": [
    "# BeautifulSoup\n",
    "import pandas as pd\n",
    "import requests\n",
    "from bs4 import BeautifulSoup\n",
    "import numpy as np\n",
    "\n",
    "# selenium 4\n",
    "from selenium import webdriver\n",
    "from selenium.webdriver.chrome.service import Service as ChromeService\n",
    "from webdriver_manager.chrome import ChromeDriverManager\n",
    "import time\n",
    "from selenium.webdriver.common.by import By\n",
    "\n",
    "driver = webdriver.Chrome(service=ChromeService(ChromeDriverManager().install()))\n",
    "driver.maximize_window()\n",
    "\n",
    "driver.get(\"https://www.imdb.com/search/title/?title_type=feature\")\n",
    "\n",
    "\n",
    "time.sleep(3)\n",
    "for i in range(1,1):\n",
    "    report1 = driver.find_elements(By.CLASS_NAME,\"ipc-btn.ipc-btn--single-padding.ipc-btn--center-align-content.ipc-btn--default-height.ipc-btn--core-base.ipc-btn--theme-base.ipc-btn--on-accent2.ipc-text-button.ipc-see-more__button\")[0]\n",
    "    driver.execute_script(\"arguments[0].click();\", report1)\n",
    "#     time.sleep(5)\n",
    "    \n",
    "movie_data = driver.find_elements(By.CLASS_NAME,\"ipc-icon-button.dli-info-icon.ipc-icon-button--base.ipc-icon-button--onAccent2\")\n",
    "\n",
    "for store in movie_data[:2]:\n",
    "    driver.execute_script(\"arguments[0].click();\", store)\n",
    "    close_btn = driver.find_elements(By.CLASS_NAME,\"ipc-icon-button.ipc-icon-button--baseAlt.ipc-icon-button--onBase\")\n",
    "    print(\"close_btn\", close_btn)\n",
    "    driver.execute_script(\"arguments[2].click();\", close_btn)\n",
    "#     close_btn.click()\n",
    "\n"
   ]
  },
  {
   "cell_type": "code",
   "execution_count": null,
   "id": "fa9613b3",
   "metadata": {},
   "outputs": [],
   "source": []
  }
 ],
 "metadata": {
  "kernelspec": {
   "display_name": "Python 3 (ipykernel)",
   "language": "python",
   "name": "python3"
  },
  "language_info": {
   "codemirror_mode": {
    "name": "ipython",
    "version": 3
   },
   "file_extension": ".py",
   "mimetype": "text/x-python",
   "name": "python",
   "nbconvert_exporter": "python",
   "pygments_lexer": "ipython3",
   "version": "3.11.3"
  }
 },
 "nbformat": 4,
 "nbformat_minor": 5
}
