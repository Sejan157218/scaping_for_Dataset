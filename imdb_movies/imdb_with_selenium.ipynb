{
 "cells": [
  {
   "cell_type": "code",
   "execution_count": 11,
   "id": "2c2e11a5",
   "metadata": {},
   "outputs": [
    {
     "name": "stdout",
     "output_type": "stream",
     "text": [
      "close_btn https://www.imdb.com/title/tt17351924/?ref_=sr_t_1\n",
      "movie_name None\n"
     ]
    }
   ],
   "source": [
    "# BeautifulSoup\n",
    "import pandas as pd\n",
    "import requests\n",
    "from bs4 import BeautifulSoup\n",
    "import numpy as np\n",
    "\n",
    "# selenium 4\n",
    "from selenium import webdriver\n",
    "from selenium.webdriver.chrome.service import Service as ChromeService\n",
    "from webdriver_manager.chrome import ChromeDriverManager\n",
    "import time\n",
    "from selenium.webdriver.common.by import By\n",
    "\n",
    "driver = webdriver.Chrome(service=ChromeService(ChromeDriverManager().install()))\n",
    "driver.maximize_window()\n",
    "\n",
    "movie_name = []\n",
    "genre = []\n",
    "certificate=[]\n",
    "year = []\n",
    "runtime = []\n",
    "rating = []\n",
    "metascore = []\n",
    "votes = []\n",
    "gross = []\n",
    "description = []\n",
    "director = []\n",
    "stars = []\n",
    "\n",
    "\n",
    "driver.get(\"https://www.imdb.com/search/title/?title_type=feature\")\n",
    "\n",
    "\n",
    "time.sleep(3)\n",
    "for i in range(1,2):\n",
    "    report1 = driver.find_elements(By.CLASS_NAME,\"ipc-btn.ipc-btn--single-padding.ipc-btn--center-align-content.ipc-btn--default-height.ipc-btn--core-base.ipc-btn--theme-base.ipc-btn--on-accent2.ipc-text-button.ipc-see-more__button\")[0]\n",
    "    driver.execute_script(\"arguments[0].click();\", report1)\n",
    "#     time.sleep(5)\n",
    "    \n",
    "# movie_data = driver.find_elements(By.CLASS_NAME,\"ipc-icon-button.dli-info-icon.ipc-icon-button--base.ipc-icon-button--onAccent2\")\n",
    "# ipc-title-link-wrapper\n",
    "movie_data = driver.find_elements(By.CLASS_NAME,\"ipc-title-link-wrapper\")\n",
    "\n",
    "for store in movie_data[:1]:\n",
    "#     driver.execute_script(\"arguments[0].click();\", store)\n",
    "#     close_btn = driver.find_elements(By.CLASS_NAME,\"ipc-icon-button.ipc-icon-button--baseAlt.ipc-icon-button--onBase\")\n",
    "    print(\"close_btn\", store.get_attribute('href'))\n",
    "#     driver.execute_script(\"arguments[2].click();\", close_btn)\n",
    "#     close_btn.click()\n",
    "\n",
    "    url = f\"{store.get_attribute('href')}\"\n",
    "    #request allow you to send HTTP request\n",
    "    response = requests.get(url)\n",
    "    soup = BeautifulSoup(response.content, 'html.parser')\n",
    "    content_div = soup.find('div', class_=\"sc-e226b0e3-3 dwkouE\")\n",
    "#     movie_name.append(content_div.find('span', class_='hero__primary-text').text)\n",
    "    print(\"movie_name\", content_div)\n",
    "#     year.append(content_div.h3.find('span', class_='lister-item-year text-muted unbold').text)\n",
    "#     content_div_p=content_div.find('p', class_='text-muted text-small')\n",
    "#     try:\n",
    "#         certificate.append(content_div_p.find('span', class_='certificate').text)\n",
    "#     except:\n",
    "#         certificate.append(None)\n",
    "#     runtime.append(content_div_p.find('span', class_='runtime').text if content_div_p.find('span', class_='runtime') else None)\n",
    "#     genre.append(content_div_p.find('span', class_='genre').text.replace('\\n', ''))\n",
    "#     rating.append(content_div.find('span', class_='ipl-rating-star__rating').text)\n",
    "#     try:\n",
    "#         metascore_div = content_div.find('div', class_='inline-block ratings-metascore')\n",
    "#         metascore.append(metascore_div.find('span', class_='metascore favorable').text.replace('\\n', ''))\n",
    "#     except:\n",
    "#         metascore.append(None)\n",
    "#     description.append(content_div.find('p', class_='').text.replace('\\n', ''))\n",
    "#     de_cost = content_div.select_one('p:has(a)').text.replace('\\n', '').replace('  ', '').replace('Director:','').replace('Directors:','').replace('|','').split('Stars:')\n",
    "#     director.append(de_cost[0] if len(de_cost)>=1 else None)\n",
    "#     stars.append(de_cost[1] if len(de_cost)>=2 else None)\n",
    "#     value = store.find_all('span', attrs = {'name': 'nv'})\n",
    "#     votes.append(value[0].text)\n",
    "#     gross.append(value[1].text if len(value) >1 else None)"
   ]
  },
  {
   "cell_type": "code",
   "execution_count": null,
   "id": "fa9613b3",
   "metadata": {},
   "outputs": [],
   "source": []
  }
 ],
 "metadata": {
  "kernelspec": {
   "display_name": "Python 3 (ipykernel)",
   "language": "python",
   "name": "python3"
  },
  "language_info": {
   "codemirror_mode": {
    "name": "ipython",
    "version": 3
   },
   "file_extension": ".py",
   "mimetype": "text/x-python",
   "name": "python",
   "nbconvert_exporter": "python",
   "pygments_lexer": "ipython3",
   "version": "3.10.9"
  }
 },
 "nbformat": 4,
 "nbformat_minor": 5
}
